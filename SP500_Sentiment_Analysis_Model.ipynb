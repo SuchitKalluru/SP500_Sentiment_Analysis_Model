{
 "cells": [
  {
   "cell_type": "code",
   "execution_count": 1,
   "id": "6f012bee",
   "metadata": {},
   "outputs": [],
   "source": [
    "import pandas as pd\n",
    "import numpy as np\n",
    "import praw\n",
    "import nltk"
   ]
  },
  {
   "cell_type": "code",
   "execution_count": 2,
   "id": "0e226662",
   "metadata": {},
   "outputs": [
    {
     "name": "stderr",
     "output_type": "stream",
     "text": [
      "Version 7.7.0 of praw is outdated. Version 7.7.1 was released Tuesday July 11, 2023.\n"
     ]
    }
   ],
   "source": [
    "# Used to create variables to validate access to the Reddit API\n",
    "user_agent = \"S&P 500 Sentiment Analysis Model v.0.1\"\n",
    "reddit = praw.Reddit(\n",
    "    client_id = #YOUR REDDIT CLIENT ID,\n",
    "    client_secret = #YOUR REDDIT CLIENT SECRET,\n",
    "    user_agent = user_agent\n",
    ")"
   ]
  },
  {
   "cell_type": "code",
   "execution_count": 3,
   "id": "efc22233",
   "metadata": {},
   "outputs": [],
   "source": [
    "# Collect all the headlines from the subreddit & store them in a DF\n",
    "WSB_headlines = set()\n",
    "POL_headlines = set()\n",
    "ECON_headlines = set()\n",
    "for submission in reddit.subreddit('wallstreetbets').hot(limit=None):\n",
    "    WSB_headlines.add(submission.title)\n",
    "\n",
    "for submission in reddit.subreddit('Politics').hot(limit=None):\n",
    "    POL_headlines.add(submission.title)\n",
    "\n",
    "for submission in reddit.subreddit('Economics').hot(limit=None):\n",
    "    ECON_headlines.add(submission.title)\n",
    "    \n",
    "WSB_df = pd.DataFrame(WSB_headlines)\n",
    "POL_df = pd.DataFrame(POL_headlines)\n",
    "ECON_df = pd.DataFrame(ECON_headlines)"
   ]
  },
  {
   "cell_type": "code",
   "execution_count": 4,
   "id": "5bf42e5e",
   "metadata": {},
   "outputs": [
    {
     "data": {
      "text/html": [
       "<div>\n",
       "<style scoped>\n",
       "    .dataframe tbody tr th:only-of-type {\n",
       "        vertical-align: middle;\n",
       "    }\n",
       "\n",
       "    .dataframe tbody tr th {\n",
       "        vertical-align: top;\n",
       "    }\n",
       "\n",
       "    .dataframe thead th {\n",
       "        text-align: right;\n",
       "    }\n",
       "</style>\n",
       "<table border=\"1\" class=\"dataframe\">\n",
       "  <thead>\n",
       "    <tr style=\"text-align: right;\">\n",
       "      <th></th>\n",
       "      <th>0</th>\n",
       "    </tr>\n",
       "  </thead>\n",
       "  <tbody>\n",
       "    <tr>\n",
       "      <th>0</th>\n",
       "      <td>Biden Administration Announces Indo-Pacific De...</td>\n",
       "    </tr>\n",
       "    <tr>\n",
       "      <th>1</th>\n",
       "      <td>China Overtakes Japan as World's Top Car Exporter</td>\n",
       "    </tr>\n",
       "    <tr>\n",
       "      <th>2</th>\n",
       "      <td>BOE Faces ‘Tricky’ Task Ahead of Rate Decision...</td>\n",
       "    </tr>\n",
       "    <tr>\n",
       "      <th>3</th>\n",
       "      <td>Inflation rose 0.4% in April and 4.7% from a y...</td>\n",
       "    </tr>\n",
       "    <tr>\n",
       "      <th>4</th>\n",
       "      <td>Dollar bears bide their time as US economic st...</td>\n",
       "    </tr>\n",
       "  </tbody>\n",
       "</table>\n",
       "</div>"
      ],
      "text/plain": [
       "                                                   0\n",
       "0  Biden Administration Announces Indo-Pacific De...\n",
       "1  China Overtakes Japan as World's Top Car Exporter\n",
       "2  BOE Faces ‘Tricky’ Task Ahead of Rate Decision...\n",
       "3  Inflation rose 0.4% in April and 4.7% from a y...\n",
       "4  Dollar bears bide their time as US economic st..."
      ]
     },
     "execution_count": 4,
     "metadata": {},
     "output_type": "execute_result"
    }
   ],
   "source": [
    "#Analyzing the Data initally \n",
    "WSB_df.head()\n",
    "ECON_df.head()"
   ]
  },
  {
   "cell_type": "code",
   "execution_count": 5,
   "id": "050ce28f",
   "metadata": {},
   "outputs": [
    {
     "data": {
      "text/html": [
       "<div>\n",
       "<style scoped>\n",
       "    .dataframe tbody tr th:only-of-type {\n",
       "        vertical-align: middle;\n",
       "    }\n",
       "\n",
       "    .dataframe tbody tr th {\n",
       "        vertical-align: top;\n",
       "    }\n",
       "\n",
       "    .dataframe thead th {\n",
       "        text-align: right;\n",
       "    }\n",
       "</style>\n",
       "<table border=\"1\" class=\"dataframe\">\n",
       "  <thead>\n",
       "    <tr style=\"text-align: right;\">\n",
       "      <th></th>\n",
       "      <th>0</th>\n",
       "    </tr>\n",
       "  </thead>\n",
       "  <tbody>\n",
       "    <tr>\n",
       "      <th>0</th>\n",
       "      <td>Trump finally reveals how he thinks he could e...</td>\n",
       "    </tr>\n",
       "    <tr>\n",
       "      <th>1</th>\n",
       "      <td>Buoys, razor wire, and a Trump-y wall: How Gre...</td>\n",
       "    </tr>\n",
       "    <tr>\n",
       "      <th>2</th>\n",
       "      <td>Biden Announces New Rules To Tackle Big Corpor...</td>\n",
       "    </tr>\n",
       "    <tr>\n",
       "      <th>3</th>\n",
       "      <td>Official concedes 8-year-old who died in U.S. ...</td>\n",
       "    </tr>\n",
       "    <tr>\n",
       "      <th>4</th>\n",
       "      <td>Trump asks the judge to delay the start of his...</td>\n",
       "    </tr>\n",
       "  </tbody>\n",
       "</table>\n",
       "</div>"
      ],
      "text/plain": [
       "                                                   0\n",
       "0  Trump finally reveals how he thinks he could e...\n",
       "1  Buoys, razor wire, and a Trump-y wall: How Gre...\n",
       "2  Biden Announces New Rules To Tackle Big Corpor...\n",
       "3  Official concedes 8-year-old who died in U.S. ...\n",
       "4  Trump asks the judge to delay the start of his..."
      ]
     },
     "execution_count": 5,
     "metadata": {},
     "output_type": "execute_result"
    }
   ],
   "source": [
    "POL_df.head()"
   ]
  },
  {
   "cell_type": "code",
   "execution_count": 6,
   "id": "1e25bb83",
   "metadata": {},
   "outputs": [
    {
     "name": "stdout",
     "output_type": "stream",
     "text": [
      "[{'compound': 0.0,\n",
      "  'headline': 'Just updating the group on my carvana puts. How do they make you feel? 🩸',\n",
      "  'neg': 0.0,\n",
      "  'neu': 1.0,\n",
      "  'pos': 0.0},\n",
      " {'compound': 0.3612,\n",
      "  'headline': 'What would stop me from making more on call options if I had won that billion '\n",
      "              'dollar lottery?',\n",
      "  'neg': 0.105,\n",
      "  'neu': 0.718,\n",
      "  'pos': 0.177},\n",
      " {'compound': -0.4215,\n",
      "  'headline': 'The Verge: Apple is testing an AI chatbot but has no idea what to do with it',\n",
      "  'neg': 0.149,\n",
      "  'neu': 0.851,\n",
      "  'pos': 0.0}]\n",
      "\n",
      "\n",
      "[{'compound': -0.5994,\n",
      "  'headline': 'Trump finally reveals how he thinks he could end Russia’s war in Ukraine in a day',\n",
      "  'neg': 0.218,\n",
      "  'neu': 0.782,\n",
      "  'pos': 0.0},\n",
      " {'compound': 0.0,\n",
      "  'headline': 'Buoys, razor wire, and a Trump-y wall: How Greg Abbott turned the Rio Grande into '\n",
      "              'an immigration ‘war zone’',\n",
      "  'neg': 0.0,\n",
      "  'neu': 1.0,\n",
      "  'pos': 0.0},\n",
      " {'compound': 0.0,\n",
      "  'headline': 'Biden Announces New Rules To Tackle Big Corporate Consolidation',\n",
      "  'neg': 0.0,\n",
      "  'neu': 1.0,\n",
      "  'pos': 0.0}]\n",
      "\n",
      "\n",
      "[{'compound': 0.0,\n",
      "  'headline': 'Biden Administration Announces Indo-Pacific Deal, Clashing With Industry Groups',\n",
      "  'neg': 0.0,\n",
      "  'neu': 1.0,\n",
      "  'pos': 0.0},\n",
      " {'compound': 0.2023,\n",
      "  'headline': \"China Overtakes Japan as World's Top Car Exporter\",\n",
      "  'neg': 0.0,\n",
      "  'neu': 0.795,\n",
      "  'pos': 0.205},\n",
      " {'compound': 0.0,\n",
      "  'headline': 'BOE Faces ‘Tricky’ Task Ahead of Rate Decision, El-Erian Says',\n",
      "  'neg': 0.0,\n",
      "  'neu': 1.0,\n",
      "  'pos': 0.0}]\n"
     ]
    }
   ],
   "source": [
    "#Setting up the NLP & Creating the Scores\n",
    "import nltk\n",
    "import pprint\n",
    "from nltk.sentiment.vader import SentimentIntensityAnalyzer as SIA\n",
    "\n",
    "sia = SIA()\n",
    "results = []\n",
    "results_1 = []\n",
    "results_2 = []\n",
    "\n",
    "#WSB\n",
    "for each_line in WSB_headlines: \n",
    "    score = sia.polarity_scores(each_line)\n",
    "    score['headline'] = each_line\n",
    "    results.append(score)\n",
    "\n",
    "#Politics\n",
    "for each_line in POL_headlines:\n",
    "    score = sia.polarity_scores(each_line)\n",
    "    score['headline'] = each_line\n",
    "    results_1.append(score)\n",
    "\n",
    "#Economics\n",
    "for each_line in ECON_headlines:\n",
    "    score = sia.polarity_scores(each_line)\n",
    "    score['headline'] = each_line\n",
    "    results_2.append(score)\n",
    "\n",
    "pprint.pprint(results[:3], width=100)\n",
    "print('\\n')\n",
    "pprint.pprint(results_1[:3], width=100)\n",
    "print('\\n')\n",
    "pprint.pprint(results_2[:3], width=100)"
   ]
  },
  {
   "cell_type": "code",
   "execution_count": 7,
   "id": "929a5348",
   "metadata": {},
   "outputs": [
    {
     "data": {
      "text/html": [
       "<div>\n",
       "<style scoped>\n",
       "    .dataframe tbody tr th:only-of-type {\n",
       "        vertical-align: middle;\n",
       "    }\n",
       "\n",
       "    .dataframe tbody tr th {\n",
       "        vertical-align: top;\n",
       "    }\n",
       "\n",
       "    .dataframe thead th {\n",
       "        text-align: right;\n",
       "    }\n",
       "</style>\n",
       "<table border=\"1\" class=\"dataframe\">\n",
       "  <thead>\n",
       "    <tr style=\"text-align: right;\">\n",
       "      <th></th>\n",
       "      <th>neg</th>\n",
       "      <th>neu</th>\n",
       "      <th>pos</th>\n",
       "      <th>compound</th>\n",
       "      <th>headline</th>\n",
       "    </tr>\n",
       "  </thead>\n",
       "  <tbody>\n",
       "    <tr>\n",
       "      <th>0</th>\n",
       "      <td>0.0</td>\n",
       "      <td>1.000</td>\n",
       "      <td>0.000</td>\n",
       "      <td>0.0000</td>\n",
       "      <td>Biden Administration Announces Indo-Pacific De...</td>\n",
       "    </tr>\n",
       "    <tr>\n",
       "      <th>1</th>\n",
       "      <td>0.0</td>\n",
       "      <td>0.795</td>\n",
       "      <td>0.205</td>\n",
       "      <td>0.2023</td>\n",
       "      <td>China Overtakes Japan as World's Top Car Exporter</td>\n",
       "    </tr>\n",
       "    <tr>\n",
       "      <th>2</th>\n",
       "      <td>0.0</td>\n",
       "      <td>1.000</td>\n",
       "      <td>0.000</td>\n",
       "      <td>0.0000</td>\n",
       "      <td>BOE Faces ‘Tricky’ Task Ahead of Rate Decision...</td>\n",
       "    </tr>\n",
       "    <tr>\n",
       "      <th>3</th>\n",
       "      <td>0.0</td>\n",
       "      <td>1.000</td>\n",
       "      <td>0.000</td>\n",
       "      <td>0.0000</td>\n",
       "      <td>Inflation rose 0.4% in April and 4.7% from a y...</td>\n",
       "    </tr>\n",
       "    <tr>\n",
       "      <th>4</th>\n",
       "      <td>0.0</td>\n",
       "      <td>0.738</td>\n",
       "      <td>0.262</td>\n",
       "      <td>0.4939</td>\n",
       "      <td>Dollar bears bide their time as US economic st...</td>\n",
       "    </tr>\n",
       "  </tbody>\n",
       "</table>\n",
       "</div>"
      ],
      "text/plain": [
       "   neg    neu    pos  compound  \\\n",
       "0  0.0  1.000  0.000    0.0000   \n",
       "1  0.0  0.795  0.205    0.2023   \n",
       "2  0.0  1.000  0.000    0.0000   \n",
       "3  0.0  1.000  0.000    0.0000   \n",
       "4  0.0  0.738  0.262    0.4939   \n",
       "\n",
       "                                            headline  \n",
       "0  Biden Administration Announces Indo-Pacific De...  \n",
       "1  China Overtakes Japan as World's Top Car Exporter  \n",
       "2  BOE Faces ‘Tricky’ Task Ahead of Rate Decision...  \n",
       "3  Inflation rose 0.4% in April and 4.7% from a y...  \n",
       "4  Dollar bears bide their time as US economic st...  "
      ]
     },
     "execution_count": 7,
     "metadata": {},
     "output_type": "execute_result"
    }
   ],
   "source": [
    "#Convert the Dictionary of Headlies and Scores into a DF\n",
    "WSB_df = pd.DataFrame.from_records(results)\n",
    "WSB_df.head()\n",
    "\n",
    "POL_df = pd.DataFrame.from_records(results_1)\n",
    "POL_df.head()\n",
    "\n",
    "ECON_df = pd.DataFrame.from_records(results_2)\n",
    "ECON_df.head()"
   ]
  },
  {
   "cell_type": "code",
   "execution_count": 8,
   "id": "bfa2693a",
   "metadata": {},
   "outputs": [
    {
     "data": {
      "text/html": [
       "<div>\n",
       "<style scoped>\n",
       "    .dataframe tbody tr th:only-of-type {\n",
       "        vertical-align: middle;\n",
       "    }\n",
       "\n",
       "    .dataframe tbody tr th {\n",
       "        vertical-align: top;\n",
       "    }\n",
       "\n",
       "    .dataframe thead th {\n",
       "        text-align: right;\n",
       "    }\n",
       "</style>\n",
       "<table border=\"1\" class=\"dataframe\">\n",
       "  <thead>\n",
       "    <tr style=\"text-align: right;\">\n",
       "      <th></th>\n",
       "      <th>neg</th>\n",
       "      <th>neu</th>\n",
       "      <th>pos</th>\n",
       "      <th>compound</th>\n",
       "      <th>headline</th>\n",
       "      <th>label</th>\n",
       "    </tr>\n",
       "  </thead>\n",
       "  <tbody>\n",
       "    <tr>\n",
       "      <th>0</th>\n",
       "      <td>0.0</td>\n",
       "      <td>1.000</td>\n",
       "      <td>0.000</td>\n",
       "      <td>0.0000</td>\n",
       "      <td>Biden Administration Announces Indo-Pacific De...</td>\n",
       "      <td>0</td>\n",
       "    </tr>\n",
       "    <tr>\n",
       "      <th>1</th>\n",
       "      <td>0.0</td>\n",
       "      <td>0.795</td>\n",
       "      <td>0.205</td>\n",
       "      <td>0.2023</td>\n",
       "      <td>China Overtakes Japan as World's Top Car Exporter</td>\n",
       "      <td>1</td>\n",
       "    </tr>\n",
       "    <tr>\n",
       "      <th>2</th>\n",
       "      <td>0.0</td>\n",
       "      <td>1.000</td>\n",
       "      <td>0.000</td>\n",
       "      <td>0.0000</td>\n",
       "      <td>BOE Faces ‘Tricky’ Task Ahead of Rate Decision...</td>\n",
       "      <td>0</td>\n",
       "    </tr>\n",
       "    <tr>\n",
       "      <th>3</th>\n",
       "      <td>0.0</td>\n",
       "      <td>1.000</td>\n",
       "      <td>0.000</td>\n",
       "      <td>0.0000</td>\n",
       "      <td>Inflation rose 0.4% in April and 4.7% from a y...</td>\n",
       "      <td>0</td>\n",
       "    </tr>\n",
       "    <tr>\n",
       "      <th>4</th>\n",
       "      <td>0.0</td>\n",
       "      <td>0.738</td>\n",
       "      <td>0.262</td>\n",
       "      <td>0.4939</td>\n",
       "      <td>Dollar bears bide their time as US economic st...</td>\n",
       "      <td>1</td>\n",
       "    </tr>\n",
       "  </tbody>\n",
       "</table>\n",
       "</div>"
      ],
      "text/plain": [
       "   neg    neu    pos  compound  \\\n",
       "0  0.0  1.000  0.000    0.0000   \n",
       "1  0.0  0.795  0.205    0.2023   \n",
       "2  0.0  1.000  0.000    0.0000   \n",
       "3  0.0  1.000  0.000    0.0000   \n",
       "4  0.0  0.738  0.262    0.4939   \n",
       "\n",
       "                                            headline  label  \n",
       "0  Biden Administration Announces Indo-Pacific De...      0  \n",
       "1  China Overtakes Japan as World's Top Car Exporter      1  \n",
       "2  BOE Faces ‘Tricky’ Task Ahead of Rate Decision...      0  \n",
       "3  Inflation rose 0.4% in April and 4.7% from a y...      0  \n",
       "4  Dollar bears bide their time as US economic st...      1  "
      ]
     },
     "execution_count": 8,
     "metadata": {},
     "output_type": "execute_result"
    }
   ],
   "source": [
    "#Label each headline with a positive(1) or negative(-1) overall value\n",
    "\n",
    "#Wall Street Bets\n",
    "WSB_df['label'] = 0\n",
    "WSB_df.loc[WSB_df['compound'] > 0.2, 'label'] = 1\n",
    "WSB_df.loc[WSB_df['compound'] < -0.2, 'label'] = -1\n",
    "WSB_df.head()\n",
    "\n",
    "#Politics\n",
    "POL_df['label'] = 0\n",
    "POL_df.loc[POL_df['compound'] > 0.2, 'label'] = 1\n",
    "POL_df.loc[POL_df['compound'] < -0.2, 'label'] = -1\n",
    "POL_df.head()\n",
    "\n",
    "#Economics\n",
    "ECON_df['label'] = 0\n",
    "ECON_df.loc[ECON_df['compound'] > 0.2, 'label'] = 1\n",
    "ECON_df.loc[ECON_df['compound'] < -0.2, 'label'] = -1\n",
    "ECON_df.head()"
   ]
  },
  {
   "cell_type": "code",
   "execution_count": 9,
   "id": "1d772bfc-8f1e-419e-ba57-b9efa2a56e54",
   "metadata": {},
   "outputs": [
    {
     "data": {
      "text/plain": [
       "label\n",
       " 0    59.894459\n",
       " 1    24.010554\n",
       "-1    16.094987\n",
       "Name: proportion, dtype: float64"
      ]
     },
     "execution_count": 9,
     "metadata": {},
     "output_type": "execute_result"
    }
   ],
   "source": [
    "#Create a new DF with just the headlines and the sentiment score for WSB\n",
    "WSB_Analysis_df = []\n",
    "WSB_df = WSB_df[['headline', 'label']]\n",
    "WSB_Analysis_df = WSB_df.label.value_counts(normalize=True) * 100\n",
    "\n",
    "#Create a new DF with just the headlines and sentiment scores for Politics Subreddit\n",
    "POL_Analysis_df = []\n",
    "POL_df = POL_df[['headline', 'label']]\n",
    "POL_Analysis_df = POL_df.label.value_counts(normalize=True) * 100\n",
    "\n",
    "#Create a new DF with just the headlines and sentiment scores for Economics Subreddit\n",
    "ECON_Analysis_df = []\n",
    "ECON_df = ECON_df[['headline', 'label']]\n",
    "ECON_Analysis_df = ECON_df.label.value_counts(normalize=True) * 100\n",
    "\n",
    "WSB_Analysis_df"
   ]
  },
  {
   "cell_type": "code",
   "execution_count": 10,
   "id": "88ea21e3-6c29-443e-8d05-3f30083e6bc6",
   "metadata": {},
   "outputs": [
    {
     "data": {
      "text/plain": [
       "label\n",
       " 0    42.762284\n",
       "-1    36.520584\n",
       " 1    20.717131\n",
       "Name: proportion, dtype: float64"
      ]
     },
     "execution_count": 10,
     "metadata": {},
     "output_type": "execute_result"
    }
   ],
   "source": [
    "POL_Analysis_df"
   ]
  },
  {
   "cell_type": "code",
   "execution_count": 11,
   "id": "094e65d7",
   "metadata": {
    "scrolled": true
   },
   "outputs": [
    {
     "data": {
      "text/plain": [
       "label\n",
       " 0    47.647059\n",
       "-1    32.794118\n",
       " 1    19.558824\n",
       "Name: proportion, dtype: float64"
      ]
     },
     "execution_count": 11,
     "metadata": {},
     "output_type": "execute_result"
    }
   ],
   "source": [
    "ECON_Analysis_df"
   ]
  },
  {
   "cell_type": "code",
   "execution_count": 12,
   "id": "6a381371",
   "metadata": {},
   "outputs": [
    {
     "data": {
      "text/plain": [
       "-0.025539510044049574"
      ]
     },
     "execution_count": 12,
     "metadata": {},
     "output_type": "execute_result"
    }
   ],
   "source": [
    "#Find the sentiment of each subreddit\n",
    "Net_Change_WSB = WSB_Analysis_df.loc[1] /100 - WSB_Analysis_df.loc[-1]/100\n",
    "Net_Change_POL = POL_Analysis_df.loc[1]/100 - POL_Analysis_df.loc[-1]/100\n",
    "Net_Change_ECON = ECON_Analysis_df.loc[1]/100 - ECON_Analysis_df.loc[-1]/100\n",
    "\n",
    "#Change the weight of each subreddit based on the size of it compared to the total size of data set\n",
    "Net_Change_WSB *= .5447\n",
    "Net_Change_POL *= .3269\n",
    "Net_Change_ECON *= .1284\n",
    "\n",
    "#Combine Sets\n",
    "Weighted_Total = Net_Change_WSB + Net_Change_POL + Net_Change_ECON\n",
    "\n",
    "Weighted_Total"
   ]
  },
  {
   "cell_type": "code",
   "execution_count": 13,
   "id": "635f684d",
   "metadata": {},
   "outputs": [],
   "source": [
    "#Arrays to keep track of the sentiment scores and the change in price both rounded to 4 sigfigs()\n",
    "#Independent Variables\n",
    "Sentiment_Scores = np.array([0.0178, 0.0244, .045, 0.0467, .0659])\n",
    "\n",
    "#Dependent Variables\n",
    "Max_High = np.array([.68, 4.01, 1.66, 1.09, 2.48])\n",
    "Max_Low = np.array([-2.36, -0.33, -0.59, -1.48, -0.44])"
   ]
  },
  {
   "cell_type": "code",
   "execution_count": 14,
   "id": "01291008",
   "metadata": {},
   "outputs": [
    {
     "data": {
      "text/plain": [
       "array([1.74677634, 1.91419882])"
      ]
     },
     "execution_count": 14,
     "metadata": {},
     "output_type": "execute_result"
    }
   ],
   "source": [
    "#Use Data to get two functions for predictions\n",
    "#To predict the high of the day \n",
    "High_reg = np.polyfit(Sentiment_Scores, Max_High, deg=1)\n",
    "High_reg"
   ]
  },
  {
   "cell_type": "code",
   "execution_count": 15,
   "id": "a4abfd44",
   "metadata": {},
   "outputs": [
    {
     "data": {
      "text/plain": [
       "array([22.39161699, -1.93476901])"
      ]
     },
     "execution_count": 15,
     "metadata": {},
     "output_type": "execute_result"
    }
   ],
   "source": [
    "#To predict the low of the day\n",
    "Low_reg = np.polyfit(Sentiment_Scores, Max_Low, deg =1)\n",
    "Low_reg"
   ]
  },
  {
   "cell_type": "code",
   "execution_count": 16,
   "id": "0bfa3c1e",
   "metadata": {},
   "outputs": [
    {
     "data": {
      "text/plain": [
       "1.8695870056770283"
      ]
     },
     "execution_count": 16,
     "metadata": {},
     "output_type": "execute_result"
    }
   ],
   "source": [
    "#Make Predictions given the Regression Correlation Functions\n",
    "#High Prediction\n",
    "High = High_reg[0] * Weighted_Total + High_reg[1]\n",
    "High"
   ]
  },
  {
   "cell_type": "code",
   "execution_count": 17,
   "id": "e0e88866",
   "metadata": {},
   "outputs": [
    {
     "data": {
      "text/plain": [
       "-2.506639941956976"
      ]
     },
     "execution_count": 17,
     "metadata": {},
     "output_type": "execute_result"
    }
   ],
   "source": [
    "#Low Prediction\n",
    "Low = Low_reg[0] * Weighted_Total + Low_reg[1]\n",
    "Low"
   ]
  },
  {
   "cell_type": "code",
   "execution_count": 18,
   "id": "8e0a2f12",
   "metadata": {},
   "outputs": [
    {
     "name": "stdout",
     "output_type": "stream",
     "text": [
      "Today's S&P500 Opening Price: 453.96\n"
     ]
    }
   ],
   "source": [
    "#Take in User input and output the prediciton for the highest/lowest prices of the stock\n",
    "Stock_Price = input(\"Today\\'s S&P500 Opening Price: \")\n",
    "Stock_Price = float(Stock_Price)"
   ]
  },
  {
   "cell_type": "code",
   "execution_count": 21,
   "id": "86560803",
   "metadata": {},
   "outputs": [],
   "source": [
    "#Create the predictions using the low and high we got earlier and the current stock price\n",
    "High_Pred = Stock_Price + High\n",
    "Low_Pred = Stock_Price + Low"
   ]
  },
  {
   "cell_type": "code",
   "execution_count": 22,
   "id": "bf36621f",
   "metadata": {},
   "outputs": [
    {
     "name": "stdout",
     "output_type": "stream",
     "text": [
      "High of the Day: \n"
     ]
    },
    {
     "data": {
      "text/plain": [
       "455.829587005677"
      ]
     },
     "metadata": {},
     "output_type": "display_data"
    },
    {
     "name": "stdout",
     "output_type": "stream",
     "text": [
      "\n",
      "\n",
      "Opening Price: \n"
     ]
    },
    {
     "data": {
      "text/plain": [
       "453.96"
      ]
     },
     "metadata": {},
     "output_type": "display_data"
    },
    {
     "name": "stdout",
     "output_type": "stream",
     "text": [
      "\n",
      "\n",
      "Low of the Day: \n"
     ]
    },
    {
     "data": {
      "text/plain": [
       "451.453360058043"
      ]
     },
     "metadata": {},
     "output_type": "display_data"
    }
   ],
   "source": [
    "#Display the high and the low \n",
    "from IPython.display import display\n",
    "print(\"High of the Day: \")\n",
    "display(High_Pred)\n",
    "print(\"\\n\")\n",
    "print(\"Opening Price: \")\n",
    "display(Stock_Price)\n",
    "print(\"\\n\")\n",
    "print(\"Low of the Day: \")\n",
    "display(Low_Pred)"
   ]
  },
  {
   "cell_type": "code",
   "execution_count": null,
   "id": "c8353d4a",
   "metadata": {},
   "outputs": [],
   "source": []
  }
 ],
 "metadata": {
  "kernelspec": {
   "display_name": "Python 3 (ipykernel)",
   "language": "python",
   "name": "python3"
  },
  "language_info": {
   "codemirror_mode": {
    "name": "ipython",
    "version": 3
   },
   "file_extension": ".py",
   "mimetype": "text/x-python",
   "name": "python",
   "nbconvert_exporter": "python",
   "pygments_lexer": "ipython3",
   "version": "3.10.11"
  }
 },
 "nbformat": 4,
 "nbformat_minor": 5
}
